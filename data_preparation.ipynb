{
 "cells": [
  {
   "cell_type": "markdown",
   "metadata": {},
   "source": [
    "# Data Preparation"
   ]
  },
  {
   "cell_type": "code",
   "execution_count": 3,
   "metadata": {},
   "outputs": [],
   "source": [
    "from os import listdir\n",
    "\n",
    "import nltk\n",
    "import string\n",
    "import csv\n",
    "import re\n",
    "\n",
    "\n",
    "from nltk.stem.wordnet import WordNetLemmatizer\n",
    "from nltk import word_tokenize, pos_tag\n",
    "from collections import defaultdict\n",
    "from nltk.corpus import wordnet as wn\n",
    "\n",
    "from nltk.corpus import stopwords\n",
    "tag_map = defaultdict(lambda : wn.NOUN)\n",
    "tag_map['J'] = wn.ADJ\n",
    "tag_map['V'] = wn.VERB\n",
    "tag_map['R'] = wn.ADV"
   ]
  },
  {
   "cell_type": "code",
   "execution_count": 4,
   "metadata": {},
   "outputs": [],
   "source": [
    "# Function to load review data from a single file\n",
    "def load_doc(filename): \n",
    "    file = open(filename, 'r')\n",
    "    text = file.read()\n",
    "    text=re.sub('<[^>]*>',' ',text.lower())\n",
    "    file.close()\n",
    "    return text\n",
    "\n",
    "# Function to remove stopwords \n",
    "def stop_words(text):\n",
    "    filtered_sentence = []\n",
    "    tokens = nltk.word_tokenize(text)\n",
    "    for w in tokens:\n",
    "        if w not in stopwords.words('english') and w.isalpha():\n",
    "            filtered_sentence.append(w)\n",
    "            str1=' '.join(str(e) for e in filtered_sentence)\n",
    "    return str1\n",
    "\n",
    "# Function to perform Lemmatization after POS Tagging\n",
    "def lemmatize_words(text):\n",
    "    tokens = nltk.word_tokenize(text)\n",
    "    lmtzr = WordNetLemmatizer()\n",
    "    tagged=nltk.pos_tag(tokens)\n",
    "    filtered_sentence = []\n",
    "    for token, tag in tagged:\n",
    "        lemma = lmtzr.lemmatize(token, tag_map[tag[0]])\n",
    "        filtered_sentence.append(lemma)\n",
    "        str2=' '.join(str(e) for e in filtered_sentence)\n",
    "    return str2 \n"
   ]
  },
  {
   "cell_type": "code",
   "execution_count": null,
   "metadata": {},
   "outputs": [],
   "source": [
    "# open csv file\n",
    "with open('neg.csv','w') as csvfile:\n",
    "    filewriter = csv.writer(csvfile, delimiter=',')\n",
    "    filewriter.writerow(['review','sentiment'])\n",
    "    \n",
    "directory = '/Users/aryajeshkumar/Desktop/project2020/dataset/neg'\n",
    "for filename in listdir(directory):\n",
    "    if not filename.endswith(\".txt\"):\n",
    "        continue\n",
    "    path = directory + '/' + filename\n",
    "    doc = load_doc(path)\n",
    "    stp_data = stop_words(doc)\n",
    "    lem = lemmatize_words(stp_data)\n",
    "    with open('neg.csv','a+') as csvfile:\n",
    "        filewriter = csv.writer(csvfile, delimiter=',')\n",
    "        filewriter.writerow([lem,0])"
   ]
  },
  {
   "cell_type": "code",
   "execution_count": null,
   "metadata": {},
   "outputs": [],
   "source": [
    "with open('pos.csv','w') as csvfile:\n",
    "    filewriter = csv.writer(csvfile, delimiter=',')\n",
    "    filewriter.writerow(['review','sentiment'])\n",
    "    \n",
    "directory = '/Users/aryajeshkumar/Desktop/project2020/dataset/pos'\n",
    "for filename in listdir(directory):\n",
    "    if not filename.endswith(\".txt\"):\n",
    "        continue\n",
    "    path = directory + '/' + filename\n",
    "    doc = load_doc(path)\n",
    "    stp_data = stop_words(doc)\n",
    "    lem = lemmatize_words(stp_data)\n",
    "    with open('pos.csv','a+') as csvfile:\n",
    "        filewriter = csv.writer(csvfile, delimiter=',')\n",
    "        filewriter.writerow([lem,1])"
   ]
  },
  {
   "cell_type": "code",
   "execution_count": null,
   "metadata": {},
   "outputs": [],
   "source": [
    "# Next we merge both these csv files to create our final cleaned dataset\n",
    "     \n",
    "    "
   ]
  },
  {
   "cell_type": "code",
   "execution_count": null,
   "metadata": {},
   "outputs": [],
   "source": []
  },
  {
   "cell_type": "code",
   "execution_count": null,
   "metadata": {},
   "outputs": [],
   "source": []
  }
 ],
 "metadata": {
  "kernelspec": {
   "display_name": "Python 3 (ipykernel)",
   "language": "python",
   "name": "python3"
  },
  "language_info": {
   "codemirror_mode": {
    "name": "ipython",
    "version": 3
   },
   "file_extension": ".py",
   "mimetype": "text/x-python",
   "name": "python",
   "nbconvert_exporter": "python",
   "pygments_lexer": "ipython3",
   "version": "3.8.8"
  }
 },
 "nbformat": 4,
 "nbformat_minor": 4
}
